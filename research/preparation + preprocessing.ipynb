{
 "cells": [
  {
   "cell_type": "markdown",
   "id": "e9c6bcf6",
   "metadata": {},
   "source": [
    "# Preparation"
   ]
  },
  {
   "cell_type": "markdown",
   "id": "f3b294fe",
   "metadata": {},
   "source": [
    "Downloading packages for russian text lemmatization."
   ]
  },
  {
   "cell_type": "code",
   "execution_count": 1,
   "id": "0b56a832",
   "metadata": {},
   "outputs": [
    {
     "name": "stdout",
     "output_type": "stream",
     "text": [
      "Note: you may need to restart the kernel to use updated packages.\n"
     ]
    }
   ],
   "source": [
    "pip install pymorphy2 > 0"
   ]
  },
  {
   "cell_type": "markdown",
   "id": "0372a47f",
   "metadata": {},
   "source": [
    "Modules for working with data, possible preprocessing and checking the progress of algorithms in the status bar."
   ]
  },
  {
   "cell_type": "code",
   "execution_count": 20,
   "id": "356ba0af",
   "metadata": {},
   "outputs": [],
   "source": [
    "import nltk\n",
    "import re\n",
    "import pandas as pd\n",
    "\n",
    "# russian lemmatization\n",
    "import pymorphy2\n",
    "# status bar\n",
    "from tqdm.auto import tqdm\n",
    "# stopwords\n",
    "from nltk.corpus import stopwords"
   ]
  },
  {
   "cell_type": "code",
   "execution_count": 21,
   "id": "1bc7cbcb",
   "metadata": {},
   "outputs": [
    {
     "name": "stderr",
     "output_type": "stream",
     "text": [
      "[nltk_data] Downloading package stopwords to\n",
      "[nltk_data]     C:\\Users\\justa\\AppData\\Roaming\\nltk_data...\n",
      "[nltk_data]   Package stopwords is already up-to-date!\n"
     ]
    }
   ],
   "source": [
    "nltk.download('stopwords')\n",
    "stopwords = stopwords.words('russian')"
   ]
  },
  {
   "cell_type": "markdown",
   "id": "62f5f8ca",
   "metadata": {},
   "source": [
    "This dataset is a corpus of the sparsed texts from arhcived websites where labels mean bynary classes: belonging to a school site (1) or not (0). Broken html markup has been preserved in many cells."
   ]
  },
  {
   "cell_type": "code",
   "execution_count": 10,
   "id": "8e922343",
   "metadata": {},
   "outputs": [
    {
     "data": {
      "text/html": [
       "<div>\n",
       "<style scoped>\n",
       "    .dataframe tbody tr th:only-of-type {\n",
       "        vertical-align: middle;\n",
       "    }\n",
       "\n",
       "    .dataframe tbody tr th {\n",
       "        vertical-align: top;\n",
       "    }\n",
       "\n",
       "    .dataframe thead th {\n",
       "        text-align: right;\n",
       "    }\n",
       "</style>\n",
       "<table border=\"1\" class=\"dataframe\">\n",
       "  <thead>\n",
       "    <tr style=\"text-align: right;\">\n",
       "      <th></th>\n",
       "      <th>Unnamed: 0</th>\n",
       "      <th>main_page</th>\n",
       "      <th>school</th>\n",
       "    </tr>\n",
       "  </thead>\n",
       "  <tbody>\n",
       "    <tr>\n",
       "      <th>0</th>\n",
       "      <td>0</td>\n",
       "      <td>\\nздравствуйте\\n,\\nвы сейчас на главной страни...</td>\n",
       "      <td>1</td>\n",
       "    </tr>\n",
       "    <tr>\n",
       "      <th>1</th>\n",
       "      <td>1</td>\n",
       "      <td>\\nхостинг от \\nucoz\\nуважаемые пользователи!\\n...</td>\n",
       "      <td>1</td>\n",
       "    </tr>\n",
       "    <tr>\n",
       "      <th>2</th>\n",
       "      <td>2</td>\n",
       "      <td>NaN</td>\n",
       "      <td>0</td>\n",
       "    </tr>\n",
       "    <tr>\n",
       "      <th>3</th>\n",
       "      <td>3</td>\n",
       "      <td>\\n #js-show-iframe-wrapper{position:relative;d...</td>\n",
       "      <td>1</td>\n",
       "    </tr>\n",
       "    <tr>\n",
       "      <th>4</th>\n",
       "      <td>4</td>\n",
       "      <td>\\n          адрес школы\\nадрес: \\nадрес: ул. л...</td>\n",
       "      <td>1</td>\n",
       "    </tr>\n",
       "  </tbody>\n",
       "</table>\n",
       "</div>"
      ],
      "text/plain": [
       "   Unnamed: 0                                          main_page  school\n",
       "0           0  \\nздравствуйте\\n,\\nвы сейчас на главной страни...       1\n",
       "1           1  \\nхостинг от \\nucoz\\nуважаемые пользователи!\\n...       1\n",
       "2           2                                                NaN       0\n",
       "3           3  \\n #js-show-iframe-wrapper{position:relative;d...       1\n",
       "4           4  \\n          адрес школы\\nадрес: \\nадрес: ул. л...       1"
      ]
     },
     "execution_count": 10,
     "metadata": {},
     "output_type": "execute_result"
    }
   ],
   "source": [
    "df = pd.read_csv('school.csv')\n",
    "df.head()"
   ]
  },
  {
   "cell_type": "code",
   "execution_count": 11,
   "id": "e33bfffc",
   "metadata": {},
   "outputs": [
    {
     "name": "stdout",
     "output_type": "stream",
     "text": [
      "<class 'pandas.core.frame.DataFrame'>\n",
      "RangeIndex: 3630 entries, 0 to 3629\n",
      "Data columns (total 3 columns):\n",
      " #   Column      Non-Null Count  Dtype \n",
      "---  ------      --------------  ----- \n",
      " 0   Unnamed: 0  3630 non-null   int64 \n",
      " 1   main_page   3604 non-null   object\n",
      " 2   school      3630 non-null   int64 \n",
      "dtypes: int64(2), object(1)\n",
      "memory usage: 85.2+ KB\n"
     ]
    }
   ],
   "source": [
    "# checking NaN cells\n",
    "df.info()"
   ]
  },
  {
   "cell_type": "code",
   "execution_count": 12,
   "id": "90769797",
   "metadata": {},
   "outputs": [],
   "source": [
    "df = df.dropna()"
   ]
  },
  {
   "cell_type": "markdown",
   "id": "c0535e74",
   "metadata": {},
   "source": [
    "# Tasks"
   ]
  },
  {
   "cell_type": "markdown",
   "id": "c5417311",
   "metadata": {},
   "source": [
    "- I'll try to work with original and preprocessed texts at the same time in order to compare future results in the classifying texts by using different methods of vectorizing and ml-algorithms\n",
    "- It would be interesting to clasterize non-school classes and define their sources\n",
    "- To visualize some data, I can try to pull out named entities based on statistical approaches (frequency of words) or features of vectorizing models"
   ]
  },
  {
   "cell_type": "markdown",
   "id": "7bbc23c5",
   "metadata": {},
   "source": [
    "# Preprocessing"
   ]
  },
  {
   "cell_type": "markdown",
   "id": "32656f23",
   "metadata": {},
   "source": [
    "It's hard to clear all html markup, so I'll try to delete latin symbols (possibly they are not necessary cause of cyrillic texts). Text preprocessing algorithm:\n",
    "- lowercase\n",
    "- deleting punct\n",
    "- deleting latin\n",
    "- lemmatization"
   ]
  },
  {
   "cell_type": "code",
   "execution_count": 22,
   "id": "9aa6b616",
   "metadata": {},
   "outputs": [],
   "source": [
    "# class for russian lemmatisation\n",
    "morph = pymorphy2.MorphAnalyzer()\n",
    "\n",
    "def normalized(text):\n",
    "    no_punct_cap = re.sub(r'[^А-Яа-я]+', ' ', text.lower()).split(' ')\n",
    "    norm_sentence = [morph.parse(word)[0].normal_form \n",
    "                     for word in no_punct_cap \n",
    "                     if word not in stopwords]\n",
    "    return ' '.join(norm_sentence)"
   ]
  },
  {
   "cell_type": "code",
   "execution_count": 28,
   "id": "b2d17133",
   "metadata": {},
   "outputs": [
    {
     "data": {
      "text/plain": [
       "' здравствуйте главный страница официальный сайт всош главный визитка лицензия приоритетный национальный проект образование управлять совет положение управлять совет '"
      ]
     },
     "execution_count": 28,
     "metadata": {},
     "output_type": "execute_result"
    }
   ],
   "source": [
    "#example\n",
    "normalized(df['main_page'][0])[:165]"
   ]
  },
  {
   "cell_type": "markdown",
   "id": "8bca2a02",
   "metadata": {},
   "source": [
    "It could be a litte bit slow due to pymorphy2 lemmatization."
   ]
  },
  {
   "cell_type": "code",
   "execution_count": 29,
   "id": "309ce9be",
   "metadata": {},
   "outputs": [
    {
     "data": {
      "application/vnd.jupyter.widget-view+json": {
       "model_id": "66a00174bf4d465885a22e27b6770e90",
       "version_major": 2,
       "version_minor": 0
      },
      "text/plain": [
       "  0%|          | 0/3604 [00:00<?, ?it/s]"
      ]
     },
     "metadata": {},
     "output_type": "display_data"
    }
   ],
   "source": [
    "tqdm.pandas()\n",
    "\n",
    "df_norm = df.copy()\n",
    "df_norm['main_page'] = df_norm['main_page'].progress_apply(normalized)"
   ]
  },
  {
   "cell_type": "code",
   "execution_count": 30,
   "id": "f25d3266",
   "metadata": {},
   "outputs": [],
   "source": [
    "df_norm.to_csv('school_normalized.csv', index=False)"
   ]
  }
 ],
 "metadata": {
  "kernelspec": {
   "display_name": "Python 3 (ipykernel)",
   "language": "python",
   "name": "python3"
  },
  "language_info": {
   "codemirror_mode": {
    "name": "ipython",
    "version": 3
   },
   "file_extension": ".py",
   "mimetype": "text/x-python",
   "name": "python",
   "nbconvert_exporter": "python",
   "pygments_lexer": "ipython3",
   "version": "3.9.13"
  }
 },
 "nbformat": 4,
 "nbformat_minor": 5
}
